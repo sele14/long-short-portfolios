{
 "cells": [
  {
   "cell_type": "code",
   "execution_count": 9,
   "metadata": {},
   "outputs": [],
   "source": [
    "import pandas as pd\n",
    "\n",
    "# Increase quality of pictures and font:\n",
    "import matplotlib as mpl\n",
    "import pandas as pd\n",
    "from matplotlib import style\n",
    "import matplotlib.pyplot as plt\n",
    "plt.style.use('ggplot')\n",
    "mpl.rcParams['figure.dpi'] = 150\n",
    "mpl.rc('font', family='serif', serif='Garamond')"
   ]
  },
  {
   "cell_type": "code",
   "execution_count": 10,
   "metadata": {},
   "outputs": [],
   "source": [
    "## Choose dataset:\n",
    "\n",
    "# SP100:\n",
    "df = pd.read_csv('sp100_good.csv', delimiter=\";\")\n",
    "\n",
    "# Nikkei:\n",
    "# df = pd.read_csv('nikkei225.csv', delimiter=';')\n",
    "\n",
    "\n",
    "df['Dates'] = pd.to_datetime(df['Dates'],errors='raise', dayfirst=True)\n",
    "df.set_index('Dates', inplace=True)"
   ]
  },
  {
   "cell_type": "code",
   "execution_count": 11,
   "metadata": {},
   "outputs": [
    {
     "data": {
      "text/plain": [
       "Index(['Name', 'RiskFree', 'LogReturn', 'Last Price', 'Excess Returns',\n",
       "       'Index Return', 'Index_rf', 'Index Price', 'Difference', 'Diff_rf',\n",
       "       '6M Momentum', 'RSI 30 Day', 'Change in 3M Momentum', '3M Momentum',\n",
       "       '1M Momentum', 'Revenue Growth Year over Year', 'EPS - 1 Yr Growth',\n",
       "       'P/CF', 'CF', 'CF Volatility', 'Dividend Yield',\n",
       "       'EBIT Growth Year over Year', 'Equity', 'Debt to Equity',\n",
       "       'Total Debt to EBITDA', 'Change in Total Debt',\n",
       "       'Change in Current Ratio', 'Current Ratio', 'Change in Quick Ratio',\n",
       "       'Quick Ratio', 'Change in Capex', 'Capital Expenditures',\n",
       "       'Enterprise Value/EBITDA Adjusted', 'Capital Expenditure to Sales',\n",
       "       'Return on Equity', 'Market Cap', 'Change in Profit Margin',\n",
       "       'Profit Margin', 'Earnings per Share (EPS)', 'EPS Volatility',\n",
       "       'Bid Ask Spread', 'Beta', 'Price Earnings Ratio (P/E)',\n",
       "       'Earnings Yield (E/P)', 'Price to Book Ratio', 'Change in BVPS', 'BVPS',\n",
       "       'Price to Sales Ratio', 'Sales to Price Ratio', 'Operating Margin',\n",
       "       'Return on Assets', 'Volatility 30 Day', 'Volatility 90 Day',\n",
       "       'Return Volatility', 'Oil Price', 'Oil Returns'],\n",
       "      dtype='object')"
      ]
     },
     "execution_count": 11,
     "metadata": {},
     "output_type": "execute_result"
    }
   ],
   "source": [
    "# List of available factors\n",
    "df.columns"
   ]
  },
  {
   "cell_type": "code",
   "execution_count": 12,
   "metadata": {},
   "outputs": [],
   "source": [
    "## Choose factor\n",
    "factor = '6M Momentum'"
   ]
  },
  {
   "cell_type": "code",
   "execution_count": 13,
   "metadata": {
    "scrolled": true
   },
   "outputs": [],
   "source": [
    "# List if dates so I can create df based on month\n",
    "# list(df.index.unique())"
   ]
  },
  {
   "cell_type": "code",
   "execution_count": 14,
   "metadata": {
    "scrolled": true
   },
   "outputs": [
    {
     "name": "stdout",
     "output_type": "stream",
     "text": [
      "Choose period: 90s, 2000s, 2010s2010s\n",
      "2010s\n"
     ]
    }
   ],
   "source": [
    "df = pd.read_csv('sp100_good.csv', delimiter=\";\")\n",
    "df['Dates'] = pd.to_datetime(df['Dates'],errors='raise', dayfirst=True)\n",
    "df.set_index('Dates', inplace=True)\n",
    "\n",
    "period = input(\"Choose period: 90s, 2000s, 2010s\")\n",
    "\n",
    "print(period)\n",
    "if period == '90s':\n",
    "    df = df['1990-01-31':'1999-12-31']\n",
    "elif period == '2000s':\n",
    "    df = df['2000-02-29':'2009-12-26']\n",
    "elif period == '2010s':\n",
    "    df = df['2010-02-26':'2018-12-31']"
   ]
  },
  {
   "cell_type": "code",
   "execution_count": 15,
   "metadata": {},
   "outputs": [],
   "source": [
    "# df = df['2010-02-26':'2018-12-31']\n",
    "# or full period\n",
    "# df = df['1990-01-31':'2018-12-31']"
   ]
  },
  {
   "cell_type": "code",
   "execution_count": 16,
   "metadata": {},
   "outputs": [],
   "source": [
    "### Choose factor:\n",
    "def get_tickers(factor):\n",
    "    table_f = df.pivot_table(index='Dates', columns='Name', values=[factor])\n",
    "    \n",
    "    \n",
    "    # CHAGNE THESE DEPENDING ON IF YOU WANT TO BUY THE TOP OR BOTTOM STOCKS FOR EACH FACTOR;\n",
    "    \n",
    "    # top 10 Stocks: \n",
    "    top10 = table_f[(table_f.mean().sort_values().index[-10:])]\n",
    "    comp10 = list(top10.columns.unique())\n",
    "    \n",
    "    # Or lowest: (e.g. if debt, volatility etc.)\n",
    "#     bottom10 = table_f[(table_f.mean().sort_values().index[:10])]\n",
    "#     comp10_bottom = list(bottom10.columns.unique())\n",
    "\n",
    "    \n",
    "    # Splitting tuple to only companies left in list:\n",
    "    l, c_list = zip(*comp10)\n",
    "    return c_list"
   ]
  },
  {
   "cell_type": "code",
   "execution_count": 17,
   "metadata": {},
   "outputs": [],
   "source": [
    "# Saving the list of top (or bottom) companies:\n",
    "c_list = get_tickers(factor)"
   ]
  },
  {
   "cell_type": "code",
   "execution_count": 18,
   "metadata": {},
   "outputs": [],
   "source": [
    "def get_tickers_short(factor):\n",
    "    table_f = df.pivot_table(index='Dates', columns='Name', values=[factor])\n",
    "    \n",
    "    \n",
    "    # CHAGNE THESE DEPENDING ON IF YOU WANT TO BUY THE TOP OR BOTTOM STOCKS FOR EACH FACTOR;\n",
    "    \n",
    "    # top 10 Stocks: \n",
    "#     top10 = table_f[(table_f.mean().sort_values().index[-10:])]\n",
    "#     comp10 = list(top10.columns.unique())\n",
    "\n",
    "     \n",
    "    \n",
    "    # Or lowest: \n",
    "    bottom10 = table_f[(table_f.mean().sort_values().index[:10])]\n",
    "    comp10_bottom = list(bottom10.columns.unique())\n",
    "\n",
    "    \n",
    "    \n",
    "    # Splitting tuple to only companies left in list:\n",
    "    l, c_list_short = zip(*comp10_bottom)\n",
    "    return c_list_short\n",
    "\n",
    "# Saving the list of top (or bottom) companies:\n",
    "c_list_short = get_tickers_short(factor)"
   ]
  },
  {
   "cell_type": "code",
   "execution_count": 19,
   "metadata": {},
   "outputs": [
    {
     "name": "stdout",
     "output_type": "stream",
     "text": [
      "Top 10:  ('BIIB', 'FB', 'MA', 'UNH', 'CHTR', 'PYPL', 'BKNG', 'AMZN', 'NVDA', 'NFLX') \n",
      " Bottom 10:  ('KHC', 'KMI', 'GM', 'GS', 'WBA', 'QCOM', 'MET', 'PEP', 'MS', 'UPS')\n"
     ]
    }
   ],
   "source": [
    "# Top and bottom 10 stocks\n",
    "print('Top 10: ',get_tickers(factor), '\\n Bottom 10: ', get_tickers_short(factor))"
   ]
  },
  {
   "cell_type": "code",
   "execution_count": 20,
   "metadata": {},
   "outputs": [],
   "source": [
    "def make_returns(c_list):\n",
    "    # Create a new DF only containing top10 and their Returns:\n",
    "    df_factor = df[df['Name'].isin(c_list)][['Name','LogReturn']]\n",
    "\n",
    "    # Table:\n",
    "    top_table = df_factor.pivot_table(index='Dates', columns='Name', values=['LogReturn'])\n",
    "\n",
    "    # Weights: (equal-weighted)\n",
    "    weights = [0.1,0.1,0.1,0.1,0.1,0.1,0.1,0.1,0.1,0.1]\n",
    "\n",
    "    w_mult = (weights * top_table)\n",
    "\n",
    "    factor_portRet= w_mult.sum(axis=1)\n",
    "    return factor_portRet"
   ]
  },
  {
   "cell_type": "code",
   "execution_count": 21,
   "metadata": {},
   "outputs": [],
   "source": [
    "factor_portRet = make_returns(c_list)"
   ]
  },
  {
   "cell_type": "code",
   "execution_count": 22,
   "metadata": {},
   "outputs": [],
   "source": [
    "def make_short_returns(c_list):\n",
    "    # Create a new DF only containing top10 and their Returns:\n",
    "    df_factor = df[df['Name'].isin(c_list)][['Name','LogReturn']]\n",
    "\n",
    "    df_factor[['LogReturn']] = df_factor[['LogReturn']]*-1\n",
    "    # Table:\n",
    "    top_table = df_factor.pivot_table(index='Dates', columns='Name', values=['LogReturn'])\n",
    "\n",
    "    # Weights: (equal-weighted)\n",
    "    weights = [0.1,0.1,0.1,0.1,0.1,0.1,0.1,0.1,0.1,0.1]\n",
    "\n",
    "    w_mult = (weights * top_table)\n",
    "\n",
    "    factor_portRet= w_mult.sum(axis=1)\n",
    "    return factor_portRet\n",
    "\n",
    "factor_portRet_short = make_short_returns(c_list_short)"
   ]
  },
  {
   "cell_type": "code",
   "execution_count": 23,
   "metadata": {},
   "outputs": [],
   "source": [
    "### Combine Long-Short in one portfolio\n",
    "\n",
    "long_short_portfolio = pd.concat([factor_portRet, factor_portRet_short], axis=1)\n",
    "long_short_portfolio.columns = ['Long', 'Short']\n",
    "\n",
    "# Create a linear combination of long and short (50-50)\n",
    "long_short_portfolio['LongShort'] = long_short_portfolio['Long'] * 0.5 + long_short_portfolio['Short'] * 0.5"
   ]
  },
  {
   "cell_type": "code",
   "execution_count": 24,
   "metadata": {},
   "outputs": [
    {
     "data": {
      "text/html": [
       "<div>\n",
       "<style scoped>\n",
       "    .dataframe tbody tr th:only-of-type {\n",
       "        vertical-align: middle;\n",
       "    }\n",
       "\n",
       "    .dataframe tbody tr th {\n",
       "        vertical-align: top;\n",
       "    }\n",
       "\n",
       "    .dataframe thead th {\n",
       "        text-align: right;\n",
       "    }\n",
       "</style>\n",
       "<table border=\"1\" class=\"dataframe\">\n",
       "  <thead>\n",
       "    <tr style=\"text-align: right;\">\n",
       "      <th></th>\n",
       "      <th>Long</th>\n",
       "      <th>Short</th>\n",
       "      <th>LongShort</th>\n",
       "    </tr>\n",
       "    <tr>\n",
       "      <th>Dates</th>\n",
       "      <th></th>\n",
       "      <th></th>\n",
       "      <th></th>\n",
       "    </tr>\n",
       "  </thead>\n",
       "  <tbody>\n",
       "    <tr>\n",
       "      <th>2010-02-26</th>\n",
       "      <td>-0.005120</td>\n",
       "      <td>0.027758</td>\n",
       "      <td>0.011319</td>\n",
       "    </tr>\n",
       "    <tr>\n",
       "      <th>2010-03-27</th>\n",
       "      <td>0.056444</td>\n",
       "      <td>-0.039296</td>\n",
       "      <td>0.008574</td>\n",
       "    </tr>\n",
       "    <tr>\n",
       "      <th>2010-04-30</th>\n",
       "      <td>0.005585</td>\n",
       "      <td>-0.004550</td>\n",
       "      <td>0.000518</td>\n",
       "    </tr>\n",
       "    <tr>\n",
       "      <th>2010-05-31</th>\n",
       "      <td>-0.064972</td>\n",
       "      <td>0.041597</td>\n",
       "      <td>-0.011687</td>\n",
       "    </tr>\n",
       "    <tr>\n",
       "      <th>2010-06-26</th>\n",
       "      <td>-0.070626</td>\n",
       "      <td>0.041768</td>\n",
       "      <td>-0.014429</td>\n",
       "    </tr>\n",
       "    <tr>\n",
       "      <th>...</th>\n",
       "      <td>...</td>\n",
       "      <td>...</td>\n",
       "      <td>...</td>\n",
       "    </tr>\n",
       "    <tr>\n",
       "      <th>2018-08-31</th>\n",
       "      <td>0.069388</td>\n",
       "      <td>0.003647</td>\n",
       "      <td>0.036518</td>\n",
       "    </tr>\n",
       "    <tr>\n",
       "      <th>2018-09-28</th>\n",
       "      <td>-0.001459</td>\n",
       "      <td>0.015319</td>\n",
       "      <td>0.006930</td>\n",
       "    </tr>\n",
       "    <tr>\n",
       "      <th>2018-10-31</th>\n",
       "      <td>-0.092322</td>\n",
       "      <td>0.023478</td>\n",
       "      <td>-0.034422</td>\n",
       "    </tr>\n",
       "    <tr>\n",
       "      <th>2018-11-30</th>\n",
       "      <td>-0.037708</td>\n",
       "      <td>0.000456</td>\n",
       "      <td>-0.018626</td>\n",
       "    </tr>\n",
       "    <tr>\n",
       "      <th>2018-12-31</th>\n",
       "      <td>-0.100446</td>\n",
       "      <td>0.094083</td>\n",
       "      <td>-0.003182</td>\n",
       "    </tr>\n",
       "  </tbody>\n",
       "</table>\n",
       "<p>99 rows × 3 columns</p>\n",
       "</div>"
      ],
      "text/plain": [
       "                Long     Short  LongShort\n",
       "Dates                                    \n",
       "2010-02-26 -0.005120  0.027758   0.011319\n",
       "2010-03-27  0.056444 -0.039296   0.008574\n",
       "2010-04-30  0.005585 -0.004550   0.000518\n",
       "2010-05-31 -0.064972  0.041597  -0.011687\n",
       "2010-06-26 -0.070626  0.041768  -0.014429\n",
       "...              ...       ...        ...\n",
       "2018-08-31  0.069388  0.003647   0.036518\n",
       "2018-09-28 -0.001459  0.015319   0.006930\n",
       "2018-10-31 -0.092322  0.023478  -0.034422\n",
       "2018-11-30 -0.037708  0.000456  -0.018626\n",
       "2018-12-31 -0.100446  0.094083  -0.003182\n",
       "\n",
       "[99 rows x 3 columns]"
      ]
     },
     "execution_count": 24,
     "metadata": {},
     "output_type": "execute_result"
    }
   ],
   "source": [
    "long_short_portfolio"
   ]
  },
  {
   "cell_type": "code",
   "execution_count": 25,
   "metadata": {},
   "outputs": [
    {
     "data": {
      "text/plain": [
       "<matplotlib.axes._subplots.AxesSubplot at 0x110925a30>"
      ]
     },
     "execution_count": 25,
     "metadata": {},
     "output_type": "execute_result"
    },
    {
     "name": "stderr",
     "output_type": "stream",
     "text": [
      "findfont: Font family ['serif'] not found. Falling back to DejaVu Sans.\n",
      "findfont: Font family ['serif'] not found. Falling back to DejaVu Sans.\n"
     ]
    },
    {
     "data": {
      "image/png": "[encoded data removed]",
      "text/plain": [
       "<Figure size 900x600 with 1 Axes>"
      ]
     },
     "metadata": {},
     "output_type": "display_data"
    }
   ],
   "source": [
    "long_short_portfolio.cumsum().plot()"
   ]
  },
  {
   "cell_type": "code",
   "execution_count": 26,
   "metadata": {},
   "outputs": [
    {
     "name": "stdout",
     "output_type": "stream",
     "text": [
      "The Average monthly Sharpe Ratio of this Portfolio is: \n",
      " Long         0.416138\n",
      "Short       -0.002478\n",
      "LongShort    0.446127\n",
      "dtype: float64\n",
      "The Average annual Sharpe Ratio of this Portfolio is: \n",
      " Long         1.441546\n",
      "Short       -0.008583\n",
      "LongShort    1.545430\n",
      "dtype: float64\n"
     ]
    }
   ],
   "source": [
    "def srRatio(factorReturns):\n",
    "    # Get Sharpe Ratio of the Portfolio:\n",
    "    # Monthly:\n",
    "    SR_m = (factorReturns.mean()/factorReturns.std())\n",
    "    print(\"The Average monthly Sharpe Ratio of this Portfolio is: \\n\",SR_m )\n",
    "    # Annual:\n",
    "    import math\n",
    "    SR_y = ((factorReturns.mean()*12)/(factorReturns.std()*(math.sqrt(12))))\n",
    "    print(\"The Average annual Sharpe Ratio of this Portfolio is: \\n\",SR_y)\n",
    "\n",
    "srRatio(long_short_portfolio)"
   ]
  },
  {
   "cell_type": "code",
   "execution_count": null,
   "metadata": {},
   "outputs": [],
   "source": []
  },
  {
   "cell_type": "code",
   "execution_count": null,
   "metadata": {},
   "outputs": [],
   "source": []
  }
 ],
 "metadata": {
  "kernelspec": {
   "display_name": "Python 3",
   "language": "python",
   "name": "python3"
  },
  "language_info": {
   "codemirror_mode": {
    "name": "ipython",
    "version": 3
   },
   "file_extension": ".py",
   "mimetype": "text/x-python",
   "name": "python",
   "nbconvert_exporter": "python",
   "pygments_lexer": "ipython3",
   "version": "3.8.2"
  }
 },
 "nbformat": 4,
 "nbformat_minor": 4
}
